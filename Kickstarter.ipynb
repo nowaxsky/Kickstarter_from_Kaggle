{
 "cells": [
  {
   "cell_type": "markdown",
   "metadata": {},
   "source": [
    "# Do tiers matter?#"
   ]
  },
  {
   "cell_type": "markdown",
   "metadata": {},
   "source": [
    "by CPM\n",
    "\n",
    "Jan 19, 2017\n",
    "\n",
    "Using data from Kickstarter Project Statistics\n",
    "https://www.kaggle.com/socathie/kickstarter-project-statistics"
   ]
  },
  {
   "cell_type": "markdown",
   "metadata": {},
   "source": [
    "**I try to figure out the relation between tier structure and amount of pledged.** "
   ]
  },
  {
   "cell_type": "code",
   "execution_count": 1,
   "metadata": {
    "collapsed": true
   },
   "outputs": [],
   "source": [
    "import numpy as np\n",
    "import pandas as pd\n",
    "import matplotlib.pyplot as plt\n",
    "import seaborn as sns\n",
    "%matplotlib inline"
   ]
  },
  {
   "cell_type": "code",
   "execution_count": 2,
   "metadata": {
    "collapsed": true
   },
   "outputs": [],
   "source": [
    "# live = pd.read_csv('input/live.csv',index_col=0)\n",
    "back = pd.read_csv('input/most_backed.csv',index_col=0)"
   ]
  },
  {
   "cell_type": "code",
   "execution_count": 3,
   "metadata": {
    "collapsed": false
   },
   "outputs": [
    {
     "name": "stdout",
     "output_type": "stream",
     "text": [
      "<class 'pandas.core.frame.DataFrame'>\n",
      "Int64Index: 4000 entries, 0 to 3999\n",
      "Data columns (total 12 columns):\n",
      "amt.pledged         4000 non-null float64\n",
      "blurb               4000 non-null object\n",
      "by                  4000 non-null object\n",
      "category            4000 non-null object\n",
      "currency            4000 non-null object\n",
      "goal                4000 non-null float64\n",
      "location            4000 non-null object\n",
      "num.backers         4000 non-null int64\n",
      "num.backers.tier    4000 non-null object\n",
      "pledge.tier         4000 non-null object\n",
      "title               4000 non-null object\n",
      "url                 4000 non-null object\n",
      "dtypes: float64(2), int64(1), object(9)\n",
      "memory usage: 406.2+ KB\n"
     ]
    }
   ],
   "source": [
    "back.info()"
   ]
  },
  {
   "cell_type": "markdown",
   "metadata": {},
   "source": [
    "## Claen data ##"
   ]
  },
  {
   "cell_type": "code",
   "execution_count": 4,
   "metadata": {
    "collapsed": false
   },
   "outputs": [
    {
     "name": "stdout",
     "output_type": "stream",
     "text": [
      "[714, 981, 1170, 1409, 3395, 3744]\n"
     ]
    }
   ],
   "source": [
    "# Now I want to turn str to num format, but some data in \"pledge.tier\" contains \"...\", so I drop that.\n",
    "\n",
    "t = []\n",
    "for i,row in enumerate(back['pledge.tier']):\n",
    "    if '...' in row:\n",
    "        t.append(i)\n",
    "print(t)"
   ]
  },
  {
   "cell_type": "code",
   "execution_count": 5,
   "metadata": {
    "collapsed": false
   },
   "outputs": [
    {
     "data": {
      "text/plain": [
       "'[5.0, 7.0, 10.0, 15.0, 15.0, 15.0, 15.0, 18.0, 20.0, 20.0, 20.0, 25.0, 25.0, 25.0, 25.0, 30.0, 30.0, 35.0, 40.0, 45.0, 50.0, 50.0, 50.0, 50.0, 50.0, 50.0, 50.0, 50.0, 50.0, 50.0, 50.0, 50.0, 50.0, 50.0, 50.0, 55.0, 55.0, 65.0, 70.0, 70.0, 70.0, 70.0, 75.0, 75.0, 75.0, 75.0, 75.0, 75.0, 75.0, 75.0, 75.0, 80.0, 100.0, 100.0, 100.0, 100.0, 100.0, 100.0, 100.0, 100.0, 100.0, 100.0, 100.0, 125.0, 125.0, 130.0, 150.0, 150.0, 150.0, 150.0, 150.0, 150.0, 150.0, 150.0, 180.0, 200.0, 200.0, 200.0, 250.0, 250.0, 250.0, 250.0, 250.0, 300.0, 300.0, 325.0, 350.0, 350.0, 350.0, 350.0, 350.0, 350.0, 350.0, 400.0, 400.0, 400.0, 400.0, 500.0, 500.0, 500.0, ...]'"
      ]
     },
     "execution_count": 5,
     "metadata": {},
     "output_type": "execute_result"
    }
   ],
   "source": [
    "back['pledge.tier'].iloc[981]"
   ]
  },
  {
   "cell_type": "code",
   "execution_count": 6,
   "metadata": {
    "collapsed": true
   },
   "outputs": [],
   "source": [
    "back = back.drop(back.index[t])"
   ]
  },
  {
   "cell_type": "code",
   "execution_count": 7,
   "metadata": {
    "collapsed": true
   },
   "outputs": [],
   "source": [
    "# Convert str to float.\n",
    "def num_tier(string):    \n",
    "    return len(string[1:-1].split(', '))\n",
    "\n",
    "def tier_num(string):\n",
    "    l = []\n",
    "    for s in string[1:-1].split(', '):\n",
    "        l.append(float(s))\n",
    "    return l\n",
    "\n",
    "back['num of tier'] = back['pledge.tier'].apply(num_tier)\n",
    "back['pledge.tier_num'] = back['pledge.tier'].apply(tier_num)\n",
    "back['num.backers.tier_num'] = back['num.backers.tier'].apply(tier_num)"
   ]
  },
  {
   "cell_type": "code",
   "execution_count": 8,
   "metadata": {
    "collapsed": true
   },
   "outputs": [],
   "source": [
    "back = back[back['currency']=='usd']\n",
    "back.reset_index(drop=True,inplace=True)"
   ]
  },
  {
   "cell_type": "code",
   "execution_count": 9,
   "metadata": {
    "collapsed": true
   },
   "outputs": [],
   "source": [
    "back_clean = back[['title','amt.pledged','category','goal','num.backers','num of tier',\n",
    "                   'pledge.tier_num', 'num.backers.tier_num']]"
   ]
  },
  {
   "cell_type": "code",
   "execution_count": 10,
   "metadata": {
    "collapsed": false
   },
   "outputs": [
    {
     "data": {
      "text/html": [
       "<div>\n",
       "<table border=\"1\" class=\"dataframe\">\n",
       "  <thead>\n",
       "    <tr style=\"text-align: right;\">\n",
       "      <th></th>\n",
       "      <th>title</th>\n",
       "      <th>amt.pledged</th>\n",
       "      <th>category</th>\n",
       "      <th>goal</th>\n",
       "      <th>num.backers</th>\n",
       "      <th>num of tier</th>\n",
       "      <th>pledge.tier_num</th>\n",
       "      <th>num.backers.tier_num</th>\n",
       "    </tr>\n",
       "  </thead>\n",
       "  <tbody>\n",
       "    <tr>\n",
       "      <th>0</th>\n",
       "      <td>Exploding Kittens</td>\n",
       "      <td>8782571.0</td>\n",
       "      <td>Tabletop Games</td>\n",
       "      <td>10000.0</td>\n",
       "      <td>219382</td>\n",
       "      <td>4</td>\n",
       "      <td>[20.0, 35.0, 100.0, 500.0]</td>\n",
       "      <td>[15505.0, 202934.0, 200.0, 5.0]</td>\n",
       "    </tr>\n",
       "    <tr>\n",
       "      <th>1</th>\n",
       "      <td>Fidget Cube: A Vinyl Desk Toy</td>\n",
       "      <td>6465690.0</td>\n",
       "      <td>Product Design</td>\n",
       "      <td>15000.0</td>\n",
       "      <td>154926</td>\n",
       "      <td>12</td>\n",
       "      <td>[1.0, 14.0, 19.0, 19.0, 35.0, 35.0, 79.0, 79.0...</td>\n",
       "      <td>[788.0, 250.0, 43073.0, 21796.0, 41727.0, 2162...</td>\n",
       "    </tr>\n",
       "    <tr>\n",
       "      <th>2</th>\n",
       "      <td>Bring Reading Rainbow Back for Every Child, Ev...</td>\n",
       "      <td>5408916.0</td>\n",
       "      <td>Web</td>\n",
       "      <td>1000000.0</td>\n",
       "      <td>105857</td>\n",
       "      <td>64</td>\n",
       "      <td>[5.0, 10.0, 25.0, 30.0, 35.0, 50.0, 75.0, 100....</td>\n",
       "      <td>[19639.0, 14343.0, 9136.0, 2259.0, 5666.0, 245...</td>\n",
       "    </tr>\n",
       "    <tr>\n",
       "      <th>3</th>\n",
       "      <td>The Veronica Mars Movie Project</td>\n",
       "      <td>5702153.0</td>\n",
       "      <td>Narrative Film</td>\n",
       "      <td>2000000.0</td>\n",
       "      <td>91585</td>\n",
       "      <td>32</td>\n",
       "      <td>[1.0, 10.0, 25.0, 35.0, 50.0, 75.0, 100.0, 150...</td>\n",
       "      <td>[5938.0, 8423.0, 11509.0, 22997.0, 23227.0, 18...</td>\n",
       "    </tr>\n",
       "    <tr>\n",
       "      <th>4</th>\n",
       "      <td>Double Fine Adventure</td>\n",
       "      <td>3336371.0</td>\n",
       "      <td>Video Games</td>\n",
       "      <td>400000.0</td>\n",
       "      <td>87142</td>\n",
       "      <td>9</td>\n",
       "      <td>[15.0, 30.0, 60.0, 100.0, 250.0, 500.0, 1000.0...</td>\n",
       "      <td>[47946.0, 24636.0, 1090.0, 11530.0, 900.0, 148...</td>\n",
       "    </tr>\n",
       "  </tbody>\n",
       "</table>\n",
       "</div>"
      ],
      "text/plain": [
       "                                               title  amt.pledged  \\\n",
       "0                                  Exploding Kittens    8782571.0   \n",
       "1                      Fidget Cube: A Vinyl Desk Toy    6465690.0   \n",
       "2  Bring Reading Rainbow Back for Every Child, Ev...    5408916.0   \n",
       "3                    The Veronica Mars Movie Project    5702153.0   \n",
       "4                              Double Fine Adventure    3336371.0   \n",
       "\n",
       "         category       goal  num.backers  num of tier  \\\n",
       "0  Tabletop Games    10000.0       219382            4   \n",
       "1  Product Design    15000.0       154926           12   \n",
       "2             Web  1000000.0       105857           64   \n",
       "3  Narrative Film  2000000.0        91585           32   \n",
       "4     Video Games   400000.0        87142            9   \n",
       "\n",
       "                                     pledge.tier_num  \\\n",
       "0                         [20.0, 35.0, 100.0, 500.0]   \n",
       "1  [1.0, 14.0, 19.0, 19.0, 35.0, 35.0, 79.0, 79.0...   \n",
       "2  [5.0, 10.0, 25.0, 30.0, 35.0, 50.0, 75.0, 100....   \n",
       "3  [1.0, 10.0, 25.0, 35.0, 50.0, 75.0, 100.0, 150...   \n",
       "4  [15.0, 30.0, 60.0, 100.0, 250.0, 500.0, 1000.0...   \n",
       "\n",
       "                                num.backers.tier_num  \n",
       "0                    [15505.0, 202934.0, 200.0, 5.0]  \n",
       "1  [788.0, 250.0, 43073.0, 21796.0, 41727.0, 2162...  \n",
       "2  [19639.0, 14343.0, 9136.0, 2259.0, 5666.0, 245...  \n",
       "3  [5938.0, 8423.0, 11509.0, 22997.0, 23227.0, 18...  \n",
       "4  [47946.0, 24636.0, 1090.0, 11530.0, 900.0, 148...  "
      ]
     },
     "execution_count": 10,
     "metadata": {},
     "output_type": "execute_result"
    }
   ],
   "source": [
    "back_clean.head()"
   ]
  },
  {
   "cell_type": "code",
   "execution_count": 11,
   "metadata": {
    "collapsed": false
   },
   "outputs": [
    {
     "name": "stdout",
     "output_type": "stream",
     "text": [
      "<class 'pandas.core.frame.DataFrame'>\n",
      "RangeIndex: 3432 entries, 0 to 3431\n",
      "Data columns (total 8 columns):\n",
      "title                   3432 non-null object\n",
      "amt.pledged             3432 non-null float64\n",
      "category                3432 non-null object\n",
      "goal                    3432 non-null float64\n",
      "num.backers             3432 non-null int64\n",
      "num of tier             3432 non-null int64\n",
      "pledge.tier_num         3432 non-null object\n",
      "num.backers.tier_num    3432 non-null object\n",
      "dtypes: float64(2), int64(2), object(4)\n",
      "memory usage: 214.6+ KB\n"
     ]
    }
   ],
   "source": [
    "back_clean.info()"
   ]
  },
  {
   "cell_type": "markdown",
   "metadata": {},
   "source": [
    "## EDA ##"
   ]
  },
  {
   "cell_type": "code",
   "execution_count": 12,
   "metadata": {
    "collapsed": true
   },
   "outputs": [],
   "source": [
    "# I build the contribution in each tier in the every case.\n",
    "\n",
    "tier_contrib = pd.Series()\n",
    "for i in range(len(back_clean.index)):\n",
    "    a = np.array(back_clean['pledge.tier_num'].iloc[i])\n",
    "    b = np.array(back_clean['num.backers.tier_num'].iloc[i])\n",
    "    contrib = pd.Series(list([a*b*100/np.sum(a*b)]))\n",
    "    tier_contrib = tier_contrib.append(contrib)"
   ]
  },
  {
   "cell_type": "code",
   "execution_count": 13,
   "metadata": {
    "collapsed": false
   },
   "outputs": [
    {
     "data": {
      "text/plain": [
       "0    [4.17065104387, 95.526738029, 0.268987490737, ...\n",
       "1    [0.0134269814169, 0.0596376078163, 13.94475512...\n",
       "2    [2.05450360916, 3.00094152108, 4.77874254629, ...\n",
       "3    [0.109386899141, 1.55164340092, 5.3003276449, ...\n",
       "4    [22.7184134796, 23.3467164929, 2.06591337695, ...\n",
       "dtype: object"
      ]
     },
     "execution_count": 13,
     "metadata": {},
     "output_type": "execute_result"
    }
   ],
   "source": [
    "tier_contrib.reset_index(drop=True,inplace=True)\n",
    "tier_contrib.head()"
   ]
  },
  {
   "cell_type": "code",
   "execution_count": 14,
   "metadata": {
    "collapsed": false
   },
   "outputs": [
    {
     "name": "stderr",
     "output_type": "stream",
     "text": [
      "C:\\Users\\Weizen\\Anaconda3\\lib\\site-packages\\ipykernel\\__main__.py:3: SettingWithCopyWarning: \n",
      "A value is trying to be set on a copy of a slice from a DataFrame.\n",
      "Try using .loc[row_indexer,col_indexer] = value instead\n",
      "\n",
      "See the caveats in the documentation: http://pandas.pydata.org/pandas-docs/stable/indexing.html#indexing-view-versus-copy\n",
      "  app.launch_new_instance()\n"
     ]
    },
    {
     "data": {
      "text/html": [
       "<div>\n",
       "<table border=\"1\" class=\"dataframe\">\n",
       "  <thead>\n",
       "    <tr style=\"text-align: right;\">\n",
       "      <th></th>\n",
       "      <th>title</th>\n",
       "      <th>amt.pledged</th>\n",
       "      <th>category</th>\n",
       "      <th>goal</th>\n",
       "      <th>num.backers</th>\n",
       "      <th>num of tier</th>\n",
       "      <th>pledge.tier_num</th>\n",
       "      <th>num.backers.tier_num</th>\n",
       "      <th>tier_contrib%</th>\n",
       "    </tr>\n",
       "  </thead>\n",
       "  <tbody>\n",
       "    <tr>\n",
       "      <th>0</th>\n",
       "      <td>Exploding Kittens</td>\n",
       "      <td>8782571.0</td>\n",
       "      <td>Tabletop Games</td>\n",
       "      <td>10000.0</td>\n",
       "      <td>219382</td>\n",
       "      <td>4</td>\n",
       "      <td>[20.0, 35.0, 100.0, 500.0]</td>\n",
       "      <td>[15505.0, 202934.0, 200.0, 5.0]</td>\n",
       "      <td>[4.17065104387, 95.526738029, 0.268987490737, ...</td>\n",
       "    </tr>\n",
       "    <tr>\n",
       "      <th>1</th>\n",
       "      <td>Fidget Cube: A Vinyl Desk Toy</td>\n",
       "      <td>6465690.0</td>\n",
       "      <td>Product Design</td>\n",
       "      <td>15000.0</td>\n",
       "      <td>154926</td>\n",
       "      <td>12</td>\n",
       "      <td>[1.0, 14.0, 19.0, 19.0, 35.0, 35.0, 79.0, 79.0...</td>\n",
       "      <td>[788.0, 250.0, 43073.0, 21796.0, 41727.0, 2162...</td>\n",
       "      <td>[0.0134269814169, 0.0596376078163, 13.94475512...</td>\n",
       "    </tr>\n",
       "    <tr>\n",
       "      <th>2</th>\n",
       "      <td>Bring Reading Rainbow Back for Every Child, Ev...</td>\n",
       "      <td>5408916.0</td>\n",
       "      <td>Web</td>\n",
       "      <td>1000000.0</td>\n",
       "      <td>105857</td>\n",
       "      <td>64</td>\n",
       "      <td>[5.0, 10.0, 25.0, 30.0, 35.0, 50.0, 75.0, 100....</td>\n",
       "      <td>[19639.0, 14343.0, 9136.0, 2259.0, 5666.0, 245...</td>\n",
       "      <td>[2.05450360916, 3.00094152108, 4.77874254629, ...</td>\n",
       "    </tr>\n",
       "    <tr>\n",
       "      <th>3</th>\n",
       "      <td>The Veronica Mars Movie Project</td>\n",
       "      <td>5702153.0</td>\n",
       "      <td>Narrative Film</td>\n",
       "      <td>2000000.0</td>\n",
       "      <td>91585</td>\n",
       "      <td>32</td>\n",
       "      <td>[1.0, 10.0, 25.0, 35.0, 50.0, 75.0, 100.0, 150...</td>\n",
       "      <td>[5938.0, 8423.0, 11509.0, 22997.0, 23227.0, 18...</td>\n",
       "      <td>[0.109386899141, 1.55164340092, 5.3003276449, ...</td>\n",
       "    </tr>\n",
       "    <tr>\n",
       "      <th>4</th>\n",
       "      <td>Double Fine Adventure</td>\n",
       "      <td>3336371.0</td>\n",
       "      <td>Video Games</td>\n",
       "      <td>400000.0</td>\n",
       "      <td>87142</td>\n",
       "      <td>9</td>\n",
       "      <td>[15.0, 30.0, 60.0, 100.0, 250.0, 500.0, 1000.0...</td>\n",
       "      <td>[47946.0, 24636.0, 1090.0, 11530.0, 900.0, 148...</td>\n",
       "      <td>[22.7184134796, 23.3467164929, 2.06591337695, ...</td>\n",
       "    </tr>\n",
       "  </tbody>\n",
       "</table>\n",
       "</div>"
      ],
      "text/plain": [
       "                                               title  amt.pledged  \\\n",
       "0                                  Exploding Kittens    8782571.0   \n",
       "1                      Fidget Cube: A Vinyl Desk Toy    6465690.0   \n",
       "2  Bring Reading Rainbow Back for Every Child, Ev...    5408916.0   \n",
       "3                    The Veronica Mars Movie Project    5702153.0   \n",
       "4                              Double Fine Adventure    3336371.0   \n",
       "\n",
       "         category       goal  num.backers  num of tier  \\\n",
       "0  Tabletop Games    10000.0       219382            4   \n",
       "1  Product Design    15000.0       154926           12   \n",
       "2             Web  1000000.0       105857           64   \n",
       "3  Narrative Film  2000000.0        91585           32   \n",
       "4     Video Games   400000.0        87142            9   \n",
       "\n",
       "                                     pledge.tier_num  \\\n",
       "0                         [20.0, 35.0, 100.0, 500.0]   \n",
       "1  [1.0, 14.0, 19.0, 19.0, 35.0, 35.0, 79.0, 79.0...   \n",
       "2  [5.0, 10.0, 25.0, 30.0, 35.0, 50.0, 75.0, 100....   \n",
       "3  [1.0, 10.0, 25.0, 35.0, 50.0, 75.0, 100.0, 150...   \n",
       "4  [15.0, 30.0, 60.0, 100.0, 250.0, 500.0, 1000.0...   \n",
       "\n",
       "                                num.backers.tier_num  \\\n",
       "0                    [15505.0, 202934.0, 200.0, 5.0]   \n",
       "1  [788.0, 250.0, 43073.0, 21796.0, 41727.0, 2162...   \n",
       "2  [19639.0, 14343.0, 9136.0, 2259.0, 5666.0, 245...   \n",
       "3  [5938.0, 8423.0, 11509.0, 22997.0, 23227.0, 18...   \n",
       "4  [47946.0, 24636.0, 1090.0, 11530.0, 900.0, 148...   \n",
       "\n",
       "                                       tier_contrib%  \n",
       "0  [4.17065104387, 95.526738029, 0.268987490737, ...  \n",
       "1  [0.0134269814169, 0.0596376078163, 13.94475512...  \n",
       "2  [2.05450360916, 3.00094152108, 4.77874254629, ...  \n",
       "3  [0.109386899141, 1.55164340092, 5.3003276449, ...  \n",
       "4  [22.7184134796, 23.3467164929, 2.06591337695, ...  "
      ]
     },
     "execution_count": 14,
     "metadata": {},
     "output_type": "execute_result"
    }
   ],
   "source": [
    "# \"tier_contrib%\" means the contribution in each tier.\n",
    "\n",
    "back_clean['tier_contrib%'] = tier_contrib\n",
    "back_clean.head()"
   ]
  },
  {
   "cell_type": "code",
   "execution_count": 19,
   "metadata": {
    "collapsed": false
   },
   "outputs": [
    {
     "data": {
      "text/plain": [
       "<matplotlib.axes._subplots.AxesSubplot at 0x1351433bba8>"
      ]
     },
     "execution_count": 19,
     "metadata": {},
     "output_type": "execute_result"
    },
    {
     "data": {
      "image/png": "[encoded data removed]",
      "text/plain": [
       "<matplotlib.figure.Figure at 0x135142bf860>"
      ]
     },
     "metadata": {},
     "output_type": "display_data"
    }
   ],
   "source": [
    "back_clean['num of tier'].plot.hist(bins=50)"
   ]
  },
  {
   "cell_type": "code",
   "execution_count": 15,
   "metadata": {
    "collapsed": false
   },
   "outputs": [
    {
     "name": "stderr",
     "output_type": "stream",
     "text": [
      "C:\\Users\\Weizen\\Anaconda3\\lib\\site-packages\\ipykernel\\__main__.py:7: SettingWithCopyWarning: \n",
      "A value is trying to be set on a copy of a slice from a DataFrame.\n",
      "Try using .loc[row_indexer,col_indexer] = value instead\n",
      "\n",
      "See the caveats in the documentation: http://pandas.pydata.org/pandas-docs/stable/indexing.html#indexing-view-versus-copy\n"
     ]
    },
    {
     "data": {
      "text/html": [
       "<div>\n",
       "<table border=\"1\" class=\"dataframe\">\n",
       "  <thead>\n",
       "    <tr style=\"text-align: right;\">\n",
       "      <th></th>\n",
       "      <th>title</th>\n",
       "      <th>amt.pledged</th>\n",
       "      <th>category</th>\n",
       "      <th>goal</th>\n",
       "      <th>num.backers</th>\n",
       "      <th>num of tier</th>\n",
       "      <th>pledge.tier_num</th>\n",
       "      <th>num.backers.tier_num</th>\n",
       "      <th>tier_contrib%</th>\n",
       "      <th>argmax_tier_contrib%</th>\n",
       "    </tr>\n",
       "  </thead>\n",
       "  <tbody>\n",
       "    <tr>\n",
       "      <th>0</th>\n",
       "      <td>Exploding Kittens</td>\n",
       "      <td>8782571.0</td>\n",
       "      <td>Tabletop Games</td>\n",
       "      <td>10000.0</td>\n",
       "      <td>219382</td>\n",
       "      <td>4</td>\n",
       "      <td>[20.0, 35.0, 100.0, 500.0]</td>\n",
       "      <td>[15505.0, 202934.0, 200.0, 5.0]</td>\n",
       "      <td>[4.17065104387, 95.526738029, 0.268987490737, ...</td>\n",
       "      <td>2</td>\n",
       "    </tr>\n",
       "    <tr>\n",
       "      <th>1</th>\n",
       "      <td>Fidget Cube: A Vinyl Desk Toy</td>\n",
       "      <td>6465690.0</td>\n",
       "      <td>Product Design</td>\n",
       "      <td>15000.0</td>\n",
       "      <td>154926</td>\n",
       "      <td>12</td>\n",
       "      <td>[1.0, 14.0, 19.0, 19.0, 35.0, 35.0, 79.0, 79.0...</td>\n",
       "      <td>[788.0, 250.0, 43073.0, 21796.0, 41727.0, 2162...</td>\n",
       "      <td>[0.0134269814169, 0.0596376078163, 13.94475512...</td>\n",
       "      <td>5</td>\n",
       "    </tr>\n",
       "    <tr>\n",
       "      <th>2</th>\n",
       "      <td>Bring Reading Rainbow Back for Every Child, Ev...</td>\n",
       "      <td>5408916.0</td>\n",
       "      <td>Web</td>\n",
       "      <td>1000000.0</td>\n",
       "      <td>105857</td>\n",
       "      <td>64</td>\n",
       "      <td>[5.0, 10.0, 25.0, 30.0, 35.0, 50.0, 75.0, 100....</td>\n",
       "      <td>[19639.0, 14343.0, 9136.0, 2259.0, 5666.0, 245...</td>\n",
       "      <td>[2.05450360916, 3.00094152108, 4.77874254629, ...</td>\n",
       "      <td>6</td>\n",
       "    </tr>\n",
       "    <tr>\n",
       "      <th>3</th>\n",
       "      <td>The Veronica Mars Movie Project</td>\n",
       "      <td>5702153.0</td>\n",
       "      <td>Narrative Film</td>\n",
       "      <td>2000000.0</td>\n",
       "      <td>91585</td>\n",
       "      <td>32</td>\n",
       "      <td>[1.0, 10.0, 25.0, 35.0, 50.0, 75.0, 100.0, 150...</td>\n",
       "      <td>[5938.0, 8423.0, 11509.0, 22997.0, 23227.0, 18...</td>\n",
       "      <td>[0.109386899141, 1.55164340092, 5.3003276449, ...</td>\n",
       "      <td>5</td>\n",
       "    </tr>\n",
       "    <tr>\n",
       "      <th>4</th>\n",
       "      <td>Double Fine Adventure</td>\n",
       "      <td>3336371.0</td>\n",
       "      <td>Video Games</td>\n",
       "      <td>400000.0</td>\n",
       "      <td>87142</td>\n",
       "      <td>9</td>\n",
       "      <td>[15.0, 30.0, 60.0, 100.0, 250.0, 500.0, 1000.0...</td>\n",
       "      <td>[47946.0, 24636.0, 1090.0, 11530.0, 900.0, 148...</td>\n",
       "      <td>[22.7184134796, 23.3467164929, 2.06591337695, ...</td>\n",
       "      <td>4</td>\n",
       "    </tr>\n",
       "  </tbody>\n",
       "</table>\n",
       "</div>"
      ],
      "text/plain": [
       "                                               title  amt.pledged  \\\n",
       "0                                  Exploding Kittens    8782571.0   \n",
       "1                      Fidget Cube: A Vinyl Desk Toy    6465690.0   \n",
       "2  Bring Reading Rainbow Back for Every Child, Ev...    5408916.0   \n",
       "3                    The Veronica Mars Movie Project    5702153.0   \n",
       "4                              Double Fine Adventure    3336371.0   \n",
       "\n",
       "         category       goal  num.backers  num of tier  \\\n",
       "0  Tabletop Games    10000.0       219382            4   \n",
       "1  Product Design    15000.0       154926           12   \n",
       "2             Web  1000000.0       105857           64   \n",
       "3  Narrative Film  2000000.0        91585           32   \n",
       "4     Video Games   400000.0        87142            9   \n",
       "\n",
       "                                     pledge.tier_num  \\\n",
       "0                         [20.0, 35.0, 100.0, 500.0]   \n",
       "1  [1.0, 14.0, 19.0, 19.0, 35.0, 35.0, 79.0, 79.0...   \n",
       "2  [5.0, 10.0, 25.0, 30.0, 35.0, 50.0, 75.0, 100....   \n",
       "3  [1.0, 10.0, 25.0, 35.0, 50.0, 75.0, 100.0, 150...   \n",
       "4  [15.0, 30.0, 60.0, 100.0, 250.0, 500.0, 1000.0...   \n",
       "\n",
       "                                num.backers.tier_num  \\\n",
       "0                    [15505.0, 202934.0, 200.0, 5.0]   \n",
       "1  [788.0, 250.0, 43073.0, 21796.0, 41727.0, 2162...   \n",
       "2  [19639.0, 14343.0, 9136.0, 2259.0, 5666.0, 245...   \n",
       "3  [5938.0, 8423.0, 11509.0, 22997.0, 23227.0, 18...   \n",
       "4  [47946.0, 24636.0, 1090.0, 11530.0, 900.0, 148...   \n",
       "\n",
       "                                       tier_contrib%  argmax_tier_contrib%  \n",
       "0  [4.17065104387, 95.526738029, 0.268987490737, ...                     2  \n",
       "1  [0.0134269814169, 0.0596376078163, 13.94475512...                     5  \n",
       "2  [2.05450360916, 3.00094152108, 4.77874254629, ...                     6  \n",
       "3  [0.109386899141, 1.55164340092, 5.3003276449, ...                     5  \n",
       "4  [22.7184134796, 23.3467164929, 2.06591337695, ...                     4  "
      ]
     },
     "execution_count": 15,
     "metadata": {},
     "output_type": "execute_result"
    }
   ],
   "source": [
    "# I build a new column to show which tier is the most contribution.\n",
    "# (pledge.tier_num is in order.)\n",
    "\n",
    "def argmax(tier):\n",
    "    return tier.argmax()+1\n",
    "\n",
    "back_clean['argmax_tier_contrib%'] = back_clean['tier_contrib%'].apply(argmax)\n",
    "back_clean.head()"
   ]
  },
  {
   "cell_type": "code",
   "execution_count": 16,
   "metadata": {
    "collapsed": false
   },
   "outputs": [
    {
     "data": {
      "text/plain": [
       "<matplotlib.axes._subplots.AxesSubplot at 0x25c0ccb1b00>"
      ]
     },
     "execution_count": 16,
     "metadata": {},
     "output_type": "execute_result"
    },
    {
     "data": {
      "image/png": "[encoded data removed]",
      "text/plain": [
       "<matplotlib.figure.Figure at 0x25c0cd07d30>"
      ]
     },
     "metadata": {},
     "output_type": "display_data"
    }
   ],
   "source": [
    "fig = plt.figure(figsize=(12,6))\n",
    "sns.barplot(x=back_clean.groupby('argmax_tier_contrib%').count()['amt.pledged'].index,\n",
    "            y=back_clean.groupby('argmax_tier_contrib%').count()['amt.pledged'])\n",
    "#plt.xlim([0,10])"
   ]
  },
  {
   "cell_type": "markdown",
   "metadata": {},
   "source": [
    "**I found that second to seventh price in \"pledge.tier_num\" is really important, they make a huge contribution to the funding cases.**"
   ]
  },
  {
   "cell_type": "code",
   "execution_count": 17,
   "metadata": {
    "collapsed": false
   },
   "outputs": [
    {
     "data": {
      "text/plain": [
       "<matplotlib.axes._subplots.AxesSubplot at 0x25c0d141d68>"
      ]
     },
     "execution_count": 17,
     "metadata": {},
     "output_type": "execute_result"
    },
    {
     "data": {
      "image/png": "[encoded data removed]",
      "text/plain": [
       "<matplotlib.figure.Figure at 0x25c0cc8e1d0>"
      ]
     },
     "metadata": {},
     "output_type": "display_data"
    }
   ],
   "source": [
    "# max contribution by position in the whole pricing strategy\n",
    "\n",
    "sns.distplot(back_clean['argmax_tier_contrib%']/back_clean['num of tier'],kde=False,bins=50)"
   ]
  },
  {
   "cell_type": "markdown",
   "metadata": {},
   "source": [
    "**Apparently, the \"median price\" is very important. Many consumers or supporters maybe don't realize the value of that product, so they give the median price for that.**\n",
    "\n",
    "**This figure shows that \"1.0\" is also important, because there's only one tier in some cases.**"
   ]
  },
  {
   "cell_type": "code",
   "execution_count": 18,
   "metadata": {
    "collapsed": true
   },
   "outputs": [],
   "source": [
    "# Now I use number scale to locate the position of the most contribution price. \n",
    "\n",
    "contrib_in_tier = pd.Series()\n",
    "for i in range(len(back_clean.index)):\n",
    "    diff = back_clean['pledge.tier_num'][i][-1]-back_clean['pledge.tier_num'][i][0]\n",
    "    if diff != 0:\n",
    "        temp = pd.Series((back_clean['pledge.tier_num'][i][back_clean['argmax_tier_contrib%'][i]-1]-back_clean['pledge.tier_num'][i][0])/diff)\n",
    "    else:\n",
    "        temp = pd.Series(1)\n",
    "        \n",
    "    contrib_in_tier = contrib_in_tier.append(temp*100)"
   ]
  },
  {
   "cell_type": "code",
   "execution_count": 19,
   "metadata": {
    "collapsed": false
   },
   "outputs": [
    {
     "data": {
      "text/plain": [
       "<matplotlib.axes._subplots.AxesSubplot at 0x25c0d8ed320>"
      ]
     },
     "execution_count": 19,
     "metadata": {},
     "output_type": "execute_result"
    },
    {
     "data": {
      "image/png": "[encoded data removed]",
      "text/plain": [
       "<matplotlib.figure.Figure at 0x25c0d8c1a90>"
      ]
     },
     "metadata": {},
     "output_type": "display_data"
    }
   ],
   "source": [
    "sns.distplot(contrib_in_tier,kde=False,bins=50)"
   ]
  },
  {
   "cell_type": "markdown",
   "metadata": {
    "collapsed": true
   },
   "source": [
    "## Conclusion\n",
    "* These successful projects on Kickstarter have about 10 tiers is very popular.\n",
    "* We found that second to seventh price in \"pledge.tier_num\" is really important, they make a huge contribution to the funding cases.\n",
    "* The \"median price\" in the project is very important.\n",
    "* The contribution of crowd maybe meets the \"long tail theory\", so the big part of contribution is at the lower price."
   ]
  },
  {
   "cell_type": "code",
   "execution_count": null,
   "metadata": {
    "collapsed": true
   },
   "outputs": [],
   "source": []
  }
 ],
 "metadata": {
  "anaconda-cloud": {},
  "kernelspec": {
   "display_name": "Python [default]",
   "language": "python",
   "name": "python3"
  },
  "language_info": {
   "codemirror_mode": {
    "name": "ipython",
    "version": 3
   },
   "file_extension": ".py",
   "mimetype": "text/x-python",
   "name": "python",
   "nbconvert_exporter": "python",
   "pygments_lexer": "ipython3",
   "version": "3.5.2"
  }
 },
 "nbformat": 4,
 "nbformat_minor": 0
}
